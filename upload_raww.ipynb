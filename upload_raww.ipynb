{
 "cells": [
  {
   "cell_type": "code",
   "execution_count": 9,
   "metadata": {
    "id": "5_ttI1P5lU1o"
   },
   "outputs": [],
   "source": [
    "import pandas as pd\n",
    "import bs4\n",
    "import requests\n",
    "from bs4 import BeautifulSoup\n",
    "\n",
    "\n"
   ]
  },
  {
   "cell_type": "code",
   "execution_count": 3,
   "metadata": {
    "id": "AlTfN1a6lV0U"
   },
   "outputs": [],
   "source": [
    "title_list = []\n",
    "author_list = []\n",
    "detail_list = []"
   ]
  },
  {
   "cell_type": "code",
   "execution_count": 4,
   "metadata": {
    "id": "ZiRKsMjQr4n7"
   },
   "outputs": [],
   "source": [
    "page = 1\n",
    "while page <= 7:\n",
    "  data = requests.get('https://www.thebangkokinsight.com/page/'+str(page)+'/?s=%E0%B8%AA%E0%B8%A1%E0%B8%B8%E0%B8%99%E0%B9%84%E0%B8%9E%E0%B8%A3')\n",
    "  soup = bs4.BeautifulSoup(data.text,\"html.parser\")\n",
    "  for f in soup.find_all('div', class_='list-item'):\n",
    "    title_list.append(f.find('h3', class_= 'post__title typescale-2').find('a').text.strip())\n",
    "    author_list.append(f.find('span', class_='entry-author').text.strip())\n",
    "    detail_list.append(f.find('p').text.strip())\n",
    "  page += 1\n"
   ]
  },
  {
   "cell_type": "code",
   "execution_count": 24,
   "metadata": {
    "colab": {
     "base_uri": "https://localhost:8080/",
     "height": 455
    },
    "id": "LS5ldJUdtOwH",
    "outputId": "1e4a2907-106e-4e24-c366-7fa2924ffa99"
   },
   "outputs": [
    {
     "data": {
      "text/html": [
       "<div>\n",
       "<style scoped>\n",
       "    .dataframe tbody tr th:only-of-type {\n",
       "        vertical-align: middle;\n",
       "    }\n",
       "\n",
       "    .dataframe tbody tr th {\n",
       "        vertical-align: top;\n",
       "    }\n",
       "\n",
       "    .dataframe thead th {\n",
       "        text-align: right;\n",
       "    }\n",
       "</style>\n",
       "<table border=\"1\" class=\"dataframe\">\n",
       "  <thead>\n",
       "    <tr style=\"text-align: right;\">\n",
       "      <th></th>\n",
       "      <th>author</th>\n",
       "      <th>detail</th>\n",
       "    </tr>\n",
       "    <tr>\n",
       "      <th>title</th>\n",
       "      <th></th>\n",
       "      <th></th>\n",
       "    </tr>\n",
       "  </thead>\n",
       "  <tbody>\n",
       "    <tr>\n",
       "      <th>ชมรมแพทย์ชนบท ถามดัง ประกาศช่อดอกกัญชาเป็นสมุนไพรควบคุม จะไปต่อไหวไหม?</th>\n",
       "      <td>โดย WANPEN PUTTANONT</td>\n",
       "      <td>ชมรมแพทย์ชนบท โพสต์ถาม ประกาศ สธ. ให้ช่อดอกกัญ...</td>\n",
       "    </tr>\n",
       "    <tr>\n",
       "      <th>‘กัญชา’ เป็นสมุนไพรควบคุม สธ. ย้ำ วิจัย จำหน่าย ส่งออก ต้องขออนุญาต</th>\n",
       "      <td>โดย NAPAPORN PANITCHART</td>\n",
       "      <td>‘กัญชา’ เป็นสมุนไพรควบคุม สธ. ย้ำ วิจัย จำหน่า...</td>\n",
       "    </tr>\n",
       "    <tr>\n",
       "      <th>‘แพทย์แผนไทย’ รักษา ‘ลองโควิด’ ใช้สมุนไพร-รับประทานอาหาร ตามธาตุเจ้าเรือน</th>\n",
       "      <td>โดย NAPAPORN PANITCHART</td>\n",
       "      <td>รพ.บ้านผือ จ.อุดรธานี รักษาอาการ ‘ลองโควิด’ ด้...</td>\n",
       "    </tr>\n",
       "    <tr>\n",
       "      <th>บันทึกหน้าใหม่ ผู้ร่วมก่อตั้ง ‘ตราเกษตร’ ปั้นแบรนด์ “ฉมา” รับกระแสสมุนไพรไทยบูม</th>\n",
       "      <td>โดย WANPEN PUTTANONT</td>\n",
       "      <td>ตระกูล “ตั้งพิรุฬห์ธรรม” จากผู้ก่อตั้ง บมจ. […]</td>\n",
       "    </tr>\n",
       "    <tr>\n",
       "      <th>ด่วน! สธ. ขอคืนหนังสือจาก ตร. เตรียมแก้ไข ประกาศ ‘ช่อดอกกัญชา’ เป็นสมุนไพรควบคุม</th>\n",
       "      <td>โดย NAPAPORN PANITCHART</td>\n",
       "      <td>สธ. ขอคืนหนังสือจาก ตร. เตรียมแก้ไขประกาศ ให้‘...</td>\n",
       "    </tr>\n",
       "    <tr>\n",
       "      <th>...</th>\n",
       "      <td>...</td>\n",
       "      <td>...</td>\n",
       "    </tr>\n",
       "    <tr>\n",
       "      <th>ติวเข้ม ‘หมอนวดไทย’ เตรียมรับสื่อมวลชน ‘เอเปค’</th>\n",
       "      <td>โดย SUNITSA BOONMA</td>\n",
       "      <td>กระทรวงแรงงาน เตรียมความพร้อมพนักงานบริการนวดไ...</td>\n",
       "    </tr>\n",
       "    <tr>\n",
       "      <th>‘อนุทิน’ แจงชัด! เหตุ ‘ไม่ถอย’ นำ ‘กัญชา’ กลับเป็นยาเสพติด</th>\n",
       "      <td>โดย The Bangkok Insight Editorial Team</td>\n",
       "      <td>“อนุทิน” แจงชัด! เหตุ “ไม่ถอย” […]</td>\n",
       "    </tr>\n",
       "    <tr>\n",
       "      <th>‘ศุภชัย’ ขอบคุณ ‘อนุทิน’ ออกประกาศคุมช่อดอกกัญชา ชี้เป็นการปรับใช้เนื้อหา ร่าง พ.ร.บ. ให้เกิดประโยชน์</th>\n",
       "      <td>โดย NAPAPORN PANITCHART</td>\n",
       "      <td>‘ศุภชัย’ ขอบคุณ ‘อนุทิน’ ออกประกาศคุมช่อดอกกัญ...</td>\n",
       "    </tr>\n",
       "    <tr>\n",
       "      <th>ออกประกาศคุม ‘ช่อดอกกัญชา’ สธ. ยืนยัน รับฟังความคิดหลายภาคส่วนแล้ว ไม่ให้ใช้ผิดวัตถุประสงค์</th>\n",
       "      <td>โดย NAPAPORN PANITCHART</td>\n",
       "      <td>ออกประกาศคุม ‘ช่อดอกกัญชา’ สธ. ยืนยัน รับฟั […]</td>\n",
       "    </tr>\n",
       "    <tr>\n",
       "      <th>‘อนุทิน’ เซ็นคุม ‘กัญชา’ เฉพาะช่อดอก กำหนดเงื่อนไข 8 ข้อ ควบคุมการขาย-แปรรูป</th>\n",
       "      <td>โดย SUNITSA BOONMA</td>\n",
       "      <td>“อนุทิน” เซ็นประกาศสธ. ควมคุม “กัญชา&amp; […]</td>\n",
       "    </tr>\n",
       "  </tbody>\n",
       "</table>\n",
       "<p>84 rows × 2 columns</p>\n",
       "</div>"
      ],
      "text/plain": [
       "                                                                                    author  \\\n",
       "title                                                                                        \n",
       "ชมรมแพทย์ชนบท ถามดัง ประกาศช่อดอกกัญชาเป็นสมุนไ...                    โดย WANPEN PUTTANONT   \n",
       "‘กัญชา’ เป็นสมุนไพรควบคุม สธ. ย้ำ วิจัย จำหน่าย...                 โดย NAPAPORN PANITCHART   \n",
       "‘แพทย์แผนไทย’ รักษา ‘ลองโควิด’ ใช้สมุนไพร-รับปร...                 โดย NAPAPORN PANITCHART   \n",
       "บันทึกหน้าใหม่ ผู้ร่วมก่อตั้ง ‘ตราเกษตร’ ปั้นแบ...                    โดย WANPEN PUTTANONT   \n",
       "ด่วน! สธ. ขอคืนหนังสือจาก ตร. เตรียมแก้ไข ประกา...                 โดย NAPAPORN PANITCHART   \n",
       "...                                                                                    ...   \n",
       "ติวเข้ม ‘หมอนวดไทย’ เตรียมรับสื่อมวลชน ‘เอเปค’                          โดย SUNITSA BOONMA   \n",
       "‘อนุทิน’ แจงชัด! เหตุ ‘ไม่ถอย’ นำ ‘กัญชา’ กลับเ...  โดย The Bangkok Insight Editorial Team   \n",
       "‘ศุภชัย’ ขอบคุณ ‘อนุทิน’ ออกประกาศคุมช่อดอกกัญช...                 โดย NAPAPORN PANITCHART   \n",
       "ออกประกาศคุม ‘ช่อดอกกัญชา’ สธ. ยืนยัน รับฟังควา...                 โดย NAPAPORN PANITCHART   \n",
       "‘อนุทิน’ เซ็นคุม ‘กัญชา’ เฉพาะช่อดอก กำหนดเงื่อ...                      โดย SUNITSA BOONMA   \n",
       "\n",
       "                                                                                               detail  \n",
       "title                                                                                                  \n",
       "ชมรมแพทย์ชนบท ถามดัง ประกาศช่อดอกกัญชาเป็นสมุนไ...  ชมรมแพทย์ชนบท โพสต์ถาม ประกาศ สธ. ให้ช่อดอกกัญ...  \n",
       "‘กัญชา’ เป็นสมุนไพรควบคุม สธ. ย้ำ วิจัย จำหน่าย...  ‘กัญชา’ เป็นสมุนไพรควบคุม สธ. ย้ำ วิจัย จำหน่า...  \n",
       "‘แพทย์แผนไทย’ รักษา ‘ลองโควิด’ ใช้สมุนไพร-รับปร...  รพ.บ้านผือ จ.อุดรธานี รักษาอาการ ‘ลองโควิด’ ด้...  \n",
       "บันทึกหน้าใหม่ ผู้ร่วมก่อตั้ง ‘ตราเกษตร’ ปั้นแบ...    ตระกูล “ตั้งพิรุฬห์ธรรม” จากผู้ก่อตั้ง บมจ. […]  \n",
       "ด่วน! สธ. ขอคืนหนังสือจาก ตร. เตรียมแก้ไข ประกา...  สธ. ขอคืนหนังสือจาก ตร. เตรียมแก้ไขประกาศ ให้‘...  \n",
       "...                                                                                               ...  \n",
       "ติวเข้ม ‘หมอนวดไทย’ เตรียมรับสื่อมวลชน ‘เอเปค’      กระทรวงแรงงาน เตรียมความพร้อมพนักงานบริการนวดไ...  \n",
       "‘อนุทิน’ แจงชัด! เหตุ ‘ไม่ถอย’ นำ ‘กัญชา’ กลับเ...                 “อนุทิน” แจงชัด! เหตุ “ไม่ถอย” […]  \n",
       "‘ศุภชัย’ ขอบคุณ ‘อนุทิน’ ออกประกาศคุมช่อดอกกัญช...  ‘ศุภชัย’ ขอบคุณ ‘อนุทิน’ ออกประกาศคุมช่อดอกกัญ...  \n",
       "ออกประกาศคุม ‘ช่อดอกกัญชา’ สธ. ยืนยัน รับฟังควา...    ออกประกาศคุม ‘ช่อดอกกัญชา’ สธ. ยืนยัน รับฟั […]  \n",
       "‘อนุทิน’ เซ็นคุม ‘กัญชา’ เฉพาะช่อดอก กำหนดเงื่อ...          “อนุทิน” เซ็นประกาศสธ. ควมคุม “กัญชา& […]  \n",
       "\n",
       "[84 rows x 2 columns]"
      ]
     },
     "execution_count": 24,
     "metadata": {},
     "output_type": "execute_result"
    }
   ],
   "source": [
    "df = pd.DataFrame([title_list,author_list,detail_list]).transpose()\n",
    "df.columns = ['title', 'author', 'detail']\n",
    "df.set_index('title')"
   ]
  },
  {
   "cell_type": "code",
   "execution_count": 25,
   "metadata": {
    "colab": {
     "base_uri": "https://localhost:8080/",
     "height": 424
    },
    "id": "SAvMH5y1zuDM",
    "outputId": "892a4aff-ade5-4388-c15f-dfd82c521458"
   },
   "outputs": [
    {
     "data": {
      "text/html": [
       "<div>\n",
       "<style scoped>\n",
       "    .dataframe tbody tr th:only-of-type {\n",
       "        vertical-align: middle;\n",
       "    }\n",
       "\n",
       "    .dataframe tbody tr th {\n",
       "        vertical-align: top;\n",
       "    }\n",
       "\n",
       "    .dataframe thead th {\n",
       "        text-align: right;\n",
       "    }\n",
       "</style>\n",
       "<table border=\"1\" class=\"dataframe\">\n",
       "  <thead>\n",
       "    <tr style=\"text-align: right;\">\n",
       "      <th></th>\n",
       "      <th>title</th>\n",
       "      <th>author</th>\n",
       "      <th>detail</th>\n",
       "    </tr>\n",
       "  </thead>\n",
       "  <tbody>\n",
       "    <tr>\n",
       "      <th>0</th>\n",
       "      <td>ชมรมแพทย์ชนบท ถามดัง ประกาศช่อดอกกัญชาเป็นสมุน...</td>\n",
       "      <td>โดย WANPEN PUTTANONT</td>\n",
       "      <td>ชมรมแพทย์ชนบท โพสต์ถาม ประกาศ สธ. ให้ช่อดอกกัญ...</td>\n",
       "    </tr>\n",
       "    <tr>\n",
       "      <th>1</th>\n",
       "      <td>‘กัญชา’ เป็นสมุนไพรควบคุม สธ. ย้ำ วิจัย จำหน่า...</td>\n",
       "      <td>โดย NAPAPORN PANITCHART</td>\n",
       "      <td>‘กัญชา’ เป็นสมุนไพรควบคุม สธ. ย้ำ วิจัย จำหน่า...</td>\n",
       "    </tr>\n",
       "    <tr>\n",
       "      <th>2</th>\n",
       "      <td>‘แพทย์แผนไทย’ รักษา ‘ลองโควิด’ ใช้สมุนไพร-รับป...</td>\n",
       "      <td>โดย NAPAPORN PANITCHART</td>\n",
       "      <td>รพ.บ้านผือ จ.อุดรธานี รักษาอาการ ‘ลองโควิด’ ด้...</td>\n",
       "    </tr>\n",
       "    <tr>\n",
       "      <th>3</th>\n",
       "      <td>บันทึกหน้าใหม่ ผู้ร่วมก่อตั้ง ‘ตราเกษตร’ ปั้นแ...</td>\n",
       "      <td>โดย WANPEN PUTTANONT</td>\n",
       "      <td>ตระกูล “ตั้งพิรุฬห์ธรรม” จากผู้ก่อตั้ง บมจ. […]</td>\n",
       "    </tr>\n",
       "    <tr>\n",
       "      <th>4</th>\n",
       "      <td>ด่วน! สธ. ขอคืนหนังสือจาก ตร. เตรียมแก้ไข ประก...</td>\n",
       "      <td>โดย NAPAPORN PANITCHART</td>\n",
       "      <td>สธ. ขอคืนหนังสือจาก ตร. เตรียมแก้ไขประกาศ ให้‘...</td>\n",
       "    </tr>\n",
       "    <tr>\n",
       "      <th>...</th>\n",
       "      <td>...</td>\n",
       "      <td>...</td>\n",
       "      <td>...</td>\n",
       "    </tr>\n",
       "    <tr>\n",
       "      <th>79</th>\n",
       "      <td>ติวเข้ม ‘หมอนวดไทย’ เตรียมรับสื่อมวลชน ‘เอเปค’</td>\n",
       "      <td>โดย SUNITSA BOONMA</td>\n",
       "      <td>กระทรวงแรงงาน เตรียมความพร้อมพนักงานบริการนวดไ...</td>\n",
       "    </tr>\n",
       "    <tr>\n",
       "      <th>80</th>\n",
       "      <td>‘อนุทิน’ แจงชัด! เหตุ ‘ไม่ถอย’ นำ ‘กัญชา’ กลับ...</td>\n",
       "      <td>โดย The Bangkok Insight Editorial Team</td>\n",
       "      <td>“อนุทิน” แจงชัด! เหตุ “ไม่ถอย” […]</td>\n",
       "    </tr>\n",
       "    <tr>\n",
       "      <th>81</th>\n",
       "      <td>‘ศุภชัย’ ขอบคุณ ‘อนุทิน’ ออกประกาศคุมช่อดอกกัญ...</td>\n",
       "      <td>โดย NAPAPORN PANITCHART</td>\n",
       "      <td>‘ศุภชัย’ ขอบคุณ ‘อนุทิน’ ออกประกาศคุมช่อดอกกัญ...</td>\n",
       "    </tr>\n",
       "    <tr>\n",
       "      <th>82</th>\n",
       "      <td>ออกประกาศคุม ‘ช่อดอกกัญชา’ สธ. ยืนยัน รับฟังคว...</td>\n",
       "      <td>โดย NAPAPORN PANITCHART</td>\n",
       "      <td>ออกประกาศคุม ‘ช่อดอกกัญชา’ สธ. ยืนยัน รับฟั […]</td>\n",
       "    </tr>\n",
       "    <tr>\n",
       "      <th>83</th>\n",
       "      <td>‘อนุทิน’ เซ็นคุม ‘กัญชา’ เฉพาะช่อดอก กำหนดเงื่...</td>\n",
       "      <td>โดย SUNITSA BOONMA</td>\n",
       "      <td>“อนุทิน” เซ็นประกาศสธ. ควมคุม “กัญชา&amp; […]</td>\n",
       "    </tr>\n",
       "  </tbody>\n",
       "</table>\n",
       "<p>84 rows × 3 columns</p>\n",
       "</div>"
      ],
      "text/plain": [
       "                                                title  \\\n",
       "0   ชมรมแพทย์ชนบท ถามดัง ประกาศช่อดอกกัญชาเป็นสมุน...   \n",
       "1   ‘กัญชา’ เป็นสมุนไพรควบคุม สธ. ย้ำ วิจัย จำหน่า...   \n",
       "2   ‘แพทย์แผนไทย’ รักษา ‘ลองโควิด’ ใช้สมุนไพร-รับป...   \n",
       "3   บันทึกหน้าใหม่ ผู้ร่วมก่อตั้ง ‘ตราเกษตร’ ปั้นแ...   \n",
       "4   ด่วน! สธ. ขอคืนหนังสือจาก ตร. เตรียมแก้ไข ประก...   \n",
       "..                                                ...   \n",
       "79     ติวเข้ม ‘หมอนวดไทย’ เตรียมรับสื่อมวลชน ‘เอเปค’   \n",
       "80  ‘อนุทิน’ แจงชัด! เหตุ ‘ไม่ถอย’ นำ ‘กัญชา’ กลับ...   \n",
       "81  ‘ศุภชัย’ ขอบคุณ ‘อนุทิน’ ออกประกาศคุมช่อดอกกัญ...   \n",
       "82  ออกประกาศคุม ‘ช่อดอกกัญชา’ สธ. ยืนยัน รับฟังคว...   \n",
       "83  ‘อนุทิน’ เซ็นคุม ‘กัญชา’ เฉพาะช่อดอก กำหนดเงื่...   \n",
       "\n",
       "                                    author  \\\n",
       "0                     โดย WANPEN PUTTANONT   \n",
       "1                  โดย NAPAPORN PANITCHART   \n",
       "2                  โดย NAPAPORN PANITCHART   \n",
       "3                     โดย WANPEN PUTTANONT   \n",
       "4                  โดย NAPAPORN PANITCHART   \n",
       "..                                     ...   \n",
       "79                      โดย SUNITSA BOONMA   \n",
       "80  โดย The Bangkok Insight Editorial Team   \n",
       "81                 โดย NAPAPORN PANITCHART   \n",
       "82                 โดย NAPAPORN PANITCHART   \n",
       "83                      โดย SUNITSA BOONMA   \n",
       "\n",
       "                                               detail  \n",
       "0   ชมรมแพทย์ชนบท โพสต์ถาม ประกาศ สธ. ให้ช่อดอกกัญ...  \n",
       "1   ‘กัญชา’ เป็นสมุนไพรควบคุม สธ. ย้ำ วิจัย จำหน่า...  \n",
       "2   รพ.บ้านผือ จ.อุดรธานี รักษาอาการ ‘ลองโควิด’ ด้...  \n",
       "3     ตระกูล “ตั้งพิรุฬห์ธรรม” จากผู้ก่อตั้ง บมจ. […]  \n",
       "4   สธ. ขอคืนหนังสือจาก ตร. เตรียมแก้ไขประกาศ ให้‘...  \n",
       "..                                                ...  \n",
       "79  กระทรวงแรงงาน เตรียมความพร้อมพนักงานบริการนวดไ...  \n",
       "80                 “อนุทิน” แจงชัด! เหตุ “ไม่ถอย” […]  \n",
       "81  ‘ศุภชัย’ ขอบคุณ ‘อนุทิน’ ออกประกาศคุมช่อดอกกัญ...  \n",
       "82    ออกประกาศคุม ‘ช่อดอกกัญชา’ สธ. ยืนยัน รับฟั […]  \n",
       "83          “อนุทิน” เซ็นประกาศสธ. ควมคุม “กัญชา& […]  \n",
       "\n",
       "[84 rows x 3 columns]"
      ]
     },
     "execution_count": 25,
     "metadata": {},
     "output_type": "execute_result"
    }
   ],
   "source": [
    "df"
   ]
  },
  {
   "cell_type": "code",
   "execution_count": 11,
   "metadata": {
    "colab": {
     "base_uri": "https://localhost:8080/",
     "height": 17
    },
    "id": "eAZuhtXdzzOz",
    "outputId": "5a3cf790-c941-43b5-fae0-0807df00354b"
   },
   "outputs": [],
   "source": [
    "from dsmlibrary.datanode import DataNode"
   ]
  },
  {
   "cell_type": "code",
   "execution_count": 12,
   "metadata": {},
   "outputs": [],
   "source": [
    "dir_raw_id = 70"
   ]
  },
  {
   "cell_type": "code",
   "execution_count": 13,
   "metadata": {},
   "outputs": [
    {
     "name": "stdout",
     "output_type": "stream",
     "text": [
      "Init DataNode sucessful!\n"
     ]
    }
   ],
   "source": [
    "datanode = DataNode()"
   ]
  },
  {
   "cell_type": "code",
   "execution_count": 17,
   "metadata": {},
   "outputs": [
    {
     "data": {
      "application/vnd.jupyter.widget-view+json": {
       "model_id": "9d1b703a75f3413a82e95c2be92ea61d",
       "version_major": 2,
       "version_minor": 0
      },
      "text/plain": [
       "  0%|          | 0.00/13.8k [00:00<?, ?B/s]"
      ]
     },
     "metadata": {},
     "output_type": "display_data"
    },
    {
     "data": {
      "text/plain": [
       "{'id': 974,\n",
       " 'msg': 'file thebang.csv create sucessful',\n",
       " 'path': 'kitipop/DSI310-19/rawData/thebang.csv',\n",
       " 'uploaded': True}"
      ]
     },
     "execution_count": 17,
     "metadata": {},
     "output_type": "execute_result"
    }
   ],
   "source": [
    "datanode.upload_file(directory_id=dir_raw_id, file_path='thebang.csv')"
   ]
  },
  {
   "cell_type": "code",
   "execution_count": 18,
   "metadata": {},
   "outputs": [],
   "source": [
    "dir_process_id = 72"
   ]
  },
  {
   "cell_type": "code",
   "execution_count": 19,
   "metadata": {},
   "outputs": [
    {
     "data": {
      "text/plain": [
       "{'owner': 'kitipop',\n",
       " 'human_size': '14.16 KB',\n",
       " 'name': 'thebang.csv',\n",
       " 'description': 'file thebang.csv',\n",
       " 'directory': 70,\n",
       " 'path': 'kitipop/DSI310-19/rawData/thebang.csv'}"
      ]
     },
     "execution_count": 19,
     "metadata": {},
     "output_type": "execute_result"
    }
   ],
   "source": [
    "meta, fp = datanode.get_file(datanode.get_file_id(directory_id=dir_raw_id, name='thebang.csv'))\n",
    "meta"
   ]
  },
  {
   "cell_type": "code",
   "execution_count": 26,
   "metadata": {},
   "outputs": [
    {
     "data": {
      "text/plain": [
       "{'sucess': True,\n",
       " 'file_id': 977,\n",
       " 'path': 'kitipop/DSI310-19/processData/thebang.parquet',\n",
       " 'lineage': True}"
      ]
     },
     "execution_count": 26,
     "metadata": {},
     "output_type": "execute_result"
    }
   ],
   "source": [
    "datanode.write(df=df, directory=dir_process_id, name=\"thebang\", profiling=True, lineage=[datanode.get_file_id(directory_id=dir_raw_id, name='thebang.csv')])\n"
   ]
  }
 ],
 "metadata": {
  "colab": {
   "provenance": []
  },
  "kernelspec": {
   "display_name": "Python 3 (ipykernel)",
   "language": "python",
   "name": "python3"
  },
  "language_info": {
   "codemirror_mode": {
    "name": "ipython",
    "version": 3
   },
   "file_extension": ".py",
   "mimetype": "text/x-python",
   "name": "python",
   "nbconvert_exporter": "python",
   "pygments_lexer": "ipython3",
   "version": "3.10.5"
  }
 },
 "nbformat": 4,
 "nbformat_minor": 4
}
